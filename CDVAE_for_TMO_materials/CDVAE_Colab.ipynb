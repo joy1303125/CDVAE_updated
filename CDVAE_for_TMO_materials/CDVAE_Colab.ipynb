{
  "cells": [
    {
      "cell_type": "code",
      "execution_count": null,
      "metadata": {
        "id": "nqNe7ubLHVWV"
      },
      "outputs": [],
      "source": [
        "from google.colab import drive\n",
        "drive.mount('/content/drive')"
      ]
    },
    {
      "cell_type": "code",
      "execution_count": null,
      "metadata": {
        "id": "PLgj6OLHEQXz"
      },
      "outputs": [],
      "source": [
        "!sudo apt-get install python3.8"
      ]
    },
    {
      "cell_type": "code",
      "execution_count": null,
      "metadata": {
        "id": "hmhkM2_2Ea9b"
      },
      "outputs": [],
      "source": [
        "!sudo update-alternatives --install /usr/bin/python3 python3 /usr/bin/python3.8 1"
      ]
    },
    {
      "cell_type": "code",
      "execution_count": null,
      "metadata": {
        "id": "PGV2vVtQEeSf"
      },
      "outputs": [],
      "source": [
        "!python --version"
      ]
    },
    {
      "cell_type": "code",
      "execution_count": null,
      "metadata": {
        "id": "WwxWkvQXEjsP"
      },
      "outputs": [],
      "source": [
        "!sudo apt install python3-pip"
      ]
    },
    {
      "cell_type": "code",
      "execution_count": null,
      "metadata": {
        "id": "MP20DfS8FA2b"
      },
      "outputs": [],
      "source": [
        "!sudo apt-get install python3.8-distutils"
      ]
    },
    {
      "cell_type": "code",
      "execution_count": null,
      "metadata": {
        "id": "PLYcSRPFvWxq"
      },
      "outputs": [],
      "source": [
        "%cd drive/MyDrive/cdvae-main"
      ]
    },
    {
      "cell_type": "markdown",
      "metadata": {
        "id": "0nRd_S0k96Xe"
      },
      "source": [
        "**Do not restart the instance**"
      ]
    },
    {
      "cell_type": "code",
      "execution_count": null,
      "metadata": {
        "id": "lJzE5hF8va8h"
      },
      "outputs": [],
      "source": [
        "!pip install torch==2.2.0+cu121 torchvision==0.17.0+cu121 torchaudio==2.2.0 -f https://download.pytorch.org/whl/torch_stable.html"
      ]
    },
    {
      "cell_type": "code",
      "execution_count": null,
      "metadata": {
        "id": "34neonxszogp"
      },
      "outputs": [],
      "source": [
        "!pip install pyg_lib torch_scatter torch_sparse torch_cluster torch_spline_conv -f https://data.pyg.org/whl/torch-2.2.0+cu121.html"
      ]
    },
    {
      "cell_type": "code",
      "execution_count": null,
      "metadata": {
        "id": "K8js6iza2Zu0"
      },
      "outputs": [],
      "source": [
        "!pip install -e ."
      ]
    },
    {
      "cell_type": "code",
      "execution_count": null,
      "metadata": {
        "id": "Imygnpsfm4bo"
      },
      "outputs": [],
      "source": [
        "!pip install omegaconf pytorch_lightning==1.3.8 hydra-core==1.1.0 python-dotenv torch_geometric==2.1.0 pandas pymatgen==2023.8.10 p_tqdm torchmetrics==0.5 wandb\n"
      ]
    },
    {
      "cell_type": "code",
      "execution_count": null,
      "metadata": {
        "id": "jFi8cYn19PsB"
      },
      "outputs": [],
      "source": [
        "!touch .env\n",
        "!echo \"export PROJECT_ROOT='$(pwd)'\" > .env\n",
        "!echo \"export HYDRA_JOBS='$(pwd)/hydra'\" >> .env\n",
        "!echo \"export WABDB_DIR='$(pwd)/cdvae/wabdb'\" >> .env\n",
        "!echo \"Go to https://wandb.ai/authorize and get an API key. Enter the API Key below: \"\n",
        "!read apikey\n",
        "!echo \"export WANDB_API_KEY='$apikey'\" >> .env\n",
        "!echo \"Go to https://next-gen.materialsproject.org/api and get an API key. Enter the API Key below: \"\n",
        "!read mpapikey\n",
        "!echo \"export MP_API_KEY='$mpapikey'\" >> .env"
      ]
    },
    {
      "cell_type": "code",
      "execution_count": null,
      "metadata": {
        "colab": {
          "base_uri": "https://localhost:8080/"
        },
        "id": "p4JBxYNJ2eh_",
        "outputId": "80a9c836-eac3-4b6b-cc11-9d21ff75c451"
      },
      "outputs": [
        {
          "name": "stdout",
          "output_type": "stream",
          "text": [
            " 15% 3984/27136 [14:46<1:20:19,  4.80it/s]/usr/local/lib/python3.8/dist-packages/pymatgen/io/cif.py:1168: UserWarning: Issues encountered while parsing CIF: Some fractional coordinates rounded to ideal values to avoid issues with finite precision.\n",
            "  warnings.warn(\"Issues encountered while parsing CIF: \" + \"\\n\".join(self.warnings))\n",
            "/usr/local/lib/python3.8/dist-packages/pymatgen/io/cif.py:1168: UserWarning: Issues encountered while parsing CIF: Some fractional coordinates rounded to ideal values to avoid issues with finite precision.\n",
            "  warnings.warn(\"Issues encountered while parsing CIF: \" + \"\\n\".join(self.warnings))\n",
            " 15% 3989/27136 [14:47<1:24:03,  4.59it/s]/usr/local/lib/python3.8/dist-packages/pymatgen/io/cif.py:1168: UserWarning: Issues encountered while parsing CIF: Some fractional coordinates rounded to ideal values to avoid issues with finite precision.\n",
            "  warnings.warn(\"Issues encountered while parsing CIF: \" + \"\\n\".join(self.warnings))\n",
            "/usr/local/lib/python3.8/dist-packages/pymatgen/io/cif.py:1168: UserWarning: Issues encountered while parsing CIF: Some fractional coordinates rounded to ideal values to avoid issues with finite precision.\n",
            "  warnings.warn(\"Issues encountered while parsing CIF: \" + \"\\n\".join(self.warnings))\n",
            " 15% 3992/27136 [14:48<52:02,  7.41it/s]  /usr/local/lib/python3.8/dist-packages/pymatgen/io/cif.py:1168: UserWarning: Issues encountered while parsing CIF: Some fractional coordinates rounded to ideal values to avoid issues with finite precision.\n",
            "  warnings.warn(\"Issues encountered while parsing CIF: \" + \"\\n\".join(self.warnings))\n",
            " 15% 4004/27136 [14:50<1:02:57,  6.12it/s]/usr/local/lib/python3.8/dist-packages/pymatgen/io/cif.py:1168: UserWarning: Issues encountered while parsing CIF: Some fractional coordinates rounded to ideal values to avoid issues with finite precision.\n",
            "  warnings.warn(\"Issues encountered while parsing CIF: \" + \"\\n\".join(self.warnings))\n",
            " 15% 4015/27136 [14:53<1:44:42,  3.68it/s]/usr/local/lib/python3.8/dist-packages/pymatgen/io/cif.py:1168: UserWarning: Issues encountered while parsing CIF: Some fractional coordinates rounded to ideal values to avoid issues with finite precision.\n",
            "  warnings.warn(\"Issues encountered while parsing CIF: \" + \"\\n\".join(self.warnings))\n"
          ]
        }
      ],
      "source": [
        "!python cdvae/run.py data=custom expname=custom"
      ]
    }
  ],
  "metadata": {
    "accelerator": "GPU",
    "colab": {
      "gpuType": "T4",
      "provenance": []
    },
    "kernelspec": {
      "display_name": "Python 3",
      "name": "python3"
    },
    "language_info": {
      "name": "python"
    }
  },
  "nbformat": 4,
  "nbformat_minor": 0
}
